{
 "cells": [
  {
   "cell_type": "code",
   "execution_count": 1,
   "metadata": {},
   "outputs": [
    {
     "name": "stderr",
     "output_type": "stream",
     "text": [
      "/Users/tab/anaconda3/lib/python3.6/site-packages/h5py/__init__.py:36: FutureWarning: Conversion of the second argument of issubdtype from `float` to `np.floating` is deprecated. In future, it will be treated as `np.float64 == np.dtype(float).type`.\n",
      "  from ._conv import register_converters as _register_converters\n"
     ]
    }
   ],
   "source": [
    "import tensorflow as tf\n",
    "import numpy as np"
   ]
  },
  {
   "cell_type": "code",
   "execution_count": 30,
   "metadata": {},
   "outputs": [
    {
     "name": "stdout",
     "output_type": "stream",
     "text": [
      "4.487986855011567\n",
      "[1.13259086 0.81846649 0.00532214 0.02792872 1.3881582  1.24454228\n",
      " 0.30539255 1.15743812 0.35881247 1.47073504]\n",
      "[1.11366763 0.60453153 0.5796033  0.70803274 0.20525432 0.06551384\n",
      " 0.49903134 0.71511484 0.62611437 0.30121828]\n",
      "[4.48798686e+00 1.27224466e+00 5.15767404e-05 1.73502330e-03\n",
      " 1.24256785e+00 3.18788207e-01 1.46215892e-01 3.00968629e+00\n",
      " 2.53243666e-01 2.04691629e+00]\n"
     ]
    }
   ],
   "source": [
    "cylinder_features = ['radius', 'height']\n",
    "cylinder_input_columns = [tf.feature_column.numeric_column(k) for k in cylinder_features]\n",
    "\n",
    "radius_list_train = (2.0-0.5) * np.random.sample(10000)\n",
    "height_list_train = (2.0-0.5) * np.random.sample(10000)\n",
    "volume_list_train = np.pi * radius_list_train * radius_list_train * height_list_train\n",
    "print(np.pi * radius_list_train[0]**2 * height_list_train[0])\n",
    "print(radius_list_train[0:10])\n",
    "print(height_list_train[0:10])\n",
    "print(volume_list_train[0:10])\n",
    "\n",
    "radius_list_eval = (2.0-0.5) * np.random.rand(1000)\n",
    "height_list_eval = (2.0-0.5) * np.random.rand(1000)\n",
    "volume_list_eval = np.pi * radius_list_eval * radius_list_eval * height_list_eval"
   ]
  },
  {
   "cell_type": "code",
   "execution_count": 8,
   "metadata": {},
   "outputs": [],
   "source": [
    "def print_rmse(model, eval_input_fn):\n",
    "  metrics = model.evaluate(input_fn = eval_input_fn)\n",
    "  print('RMSE on dataset = {}'.format(np.sqrt(metrics['average_loss'])))\n",
    "  print(metrics)"
   ]
  },
  {
   "cell_type": "code",
   "execution_count": 32,
   "metadata": {},
   "outputs": [
    {
     "name": "stdout",
     "output_type": "stream",
     "text": [
      "INFO:tensorflow:Using default config.\n",
      "INFO:tensorflow:Using config: {'_model_dir': './cylinder_model', '_tf_random_seed': None, '_save_summary_steps': 100, '_save_checkpoints_steps': None, '_save_checkpoints_secs': 600, '_session_config': None, '_keep_checkpoint_max': 5, '_keep_checkpoint_every_n_hours': 10000, '_log_step_count_steps': 100, '_train_distribute': None, '_device_fn': None, '_service': None, '_cluster_spec': <tensorflow.python.training.server_lib.ClusterSpec object at 0x10e95fe48>, '_task_type': 'worker', '_task_id': 0, '_global_id_in_cluster': 0, '_master': '', '_evaluation_master': '', '_is_chief': True, '_num_ps_replicas': 0, '_num_worker_replicas': 1}\n",
      "INFO:tensorflow:Calling model_fn.\n",
      "INFO:tensorflow:Done calling model_fn.\n",
      "INFO:tensorflow:Create CheckpointSaverHook.\n",
      "INFO:tensorflow:Graph was finalized.\n",
      "INFO:tensorflow:Running local_init_op.\n",
      "INFO:tensorflow:Done running local_init_op.\n",
      "INFO:tensorflow:Saving checkpoints for 0 into ./cylinder_model/model.ckpt.\n",
      "INFO:tensorflow:loss = 1048.7603, step = 1\n",
      "INFO:tensorflow:global_step/sec: 289.281\n",
      "INFO:tensorflow:loss = 709.0036, step = 101 (0.347 sec)\n",
      "INFO:tensorflow:global_step/sec: 366.682\n",
      "INFO:tensorflow:loss = 722.47906, step = 201 (0.272 sec)\n",
      "INFO:tensorflow:global_step/sec: 437.625\n",
      "INFO:tensorflow:loss = 581.265, step = 301 (0.229 sec)\n",
      "INFO:tensorflow:global_step/sec: 457.21\n",
      "INFO:tensorflow:loss = 704.3777, step = 401 (0.219 sec)\n",
      "INFO:tensorflow:global_step/sec: 416.63\n",
      "INFO:tensorflow:loss = 630.4297, step = 501 (0.240 sec)\n",
      "INFO:tensorflow:global_step/sec: 426.099\n",
      "INFO:tensorflow:loss = 701.13293, step = 601 (0.234 sec)\n",
      "INFO:tensorflow:global_step/sec: 440.284\n",
      "INFO:tensorflow:loss = 521.3203, step = 701 (0.227 sec)\n",
      "INFO:tensorflow:Saving checkpoints for 782 into ./cylinder_model/model.ckpt.\n",
      "INFO:tensorflow:Loss for final step: 83.02466.\n"
     ]
    },
    {
     "data": {
      "text/plain": [
       "<tensorflow.python.estimator.canned.dnn.DNNRegressor at 0x10e95f5f8>"
      ]
     },
     "execution_count": 32,
     "metadata": {},
     "output_type": "execute_result"
    }
   ],
   "source": [
    "cylinder_input_fn = tf.estimator.inputs.numpy_input_fn(\n",
    "    x = {cylinder_features[0]: radius_list_train, cylinder_features[1]: height_list_train},\n",
    "    y = volume_list_train,\n",
    "    batch_size = 128,\n",
    "    num_epochs = 10,\n",
    "    shuffle = True,\n",
    "    queue_capacity = 1000\n",
    ")\n",
    "\n",
    "cylinder_eval_input_fn = tf.estimator.inputs.numpy_input_fn(\n",
    "    x = {cylinder_features[0]: radius_list_eval, cylinder_features[1]: height_list_eval},\n",
    "    y = volume_list_eval,\n",
    "    batch_size = 128,\n",
    "    shuffle = False\n",
    ")\n",
    "\n",
    "cylinder_model = tf.estimator.DNNRegressor(hidden_units=[16, 8, 2],\n",
    "                                          feature_columns = cylinder_input_columns, model_dir = \"./cylinder_model\")\n",
    "cylinder_model.train(input_fn = cylinder_input_fn)"
   ]
  },
  {
   "cell_type": "code",
   "execution_count": 14,
   "metadata": {},
   "outputs": [
    {
     "name": "stdout",
     "output_type": "stream",
     "text": [
      "INFO:tensorflow:Calling model_fn.\n",
      "INFO:tensorflow:Done calling model_fn.\n",
      "INFO:tensorflow:Starting evaluation at 2019-02-18-04:23:43\n",
      "INFO:tensorflow:Graph was finalized.\n",
      "INFO:tensorflow:Restoring parameters from ./cylinder_model/model.ckpt-782\n",
      "INFO:tensorflow:Running local_init_op.\n",
      "INFO:tensorflow:Done running local_init_op.\n",
      "INFO:tensorflow:Finished evaluation at 2019-02-18-04:23:43\n",
      "INFO:tensorflow:Saving dict for global step 782: average_loss = 0.028029464, global_step = 782, label/mean = 1.6470896, loss = 3.503683, prediction/mean = 1.6164135\n",
      "INFO:tensorflow:Saving 'checkpoint_path' summary for global step 782: ./cylinder_model/model.ckpt-782\n",
      "RMSE on dataset = 0.16742002964019775\n",
      "{'average_loss': 0.028029464, 'label/mean': 1.6470896, 'loss': 3.503683, 'prediction/mean': 1.6164135, 'global_step': 782}\n"
     ]
    }
   ],
   "source": [
    "print_rmse(cylinder_model, cylinder_eval_input_fn)"
   ]
  },
  {
   "cell_type": "code",
   "execution_count": null,
   "metadata": {},
   "outputs": [],
   "source": []
  }
 ],
 "metadata": {
  "kernelspec": {
   "display_name": "Python 3",
   "language": "python",
   "name": "python3"
  },
  "language_info": {
   "codemirror_mode": {
    "name": "ipython",
    "version": 3
   },
   "file_extension": ".py",
   "mimetype": "text/x-python",
   "name": "python",
   "nbconvert_exporter": "python",
   "pygments_lexer": "ipython3",
   "version": "3.6.5"
  }
 },
 "nbformat": 4,
 "nbformat_minor": 2
}
